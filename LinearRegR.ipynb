{
 "cells": [
  {
   "cell_type": "code",
   "execution_count": 1,
   "metadata": {
    "collapsed": true
   },
   "outputs": [],
   "source": [
    "%matplotlib inline"
   ]
  },
  {
   "cell_type": "code",
   "execution_count": 2,
   "metadata": {
    "collapsed": true
   },
   "outputs": [],
   "source": [
    "\n",
    "import sys\n",
    "import random\n",
    "import numpy as np\n",
    "import pandas as pd\n",
    "import matplotlib.pyplot as plt\n"
   ]
  },
  {
   "cell_type": "code",
   "execution_count": 3,
   "metadata": {
    "collapsed": true
   },
   "outputs": [],
   "source": [
    "MAX_NUM_OF_ITER=5000 #\n",
    "NUM_OF_IN = 1000\n",
    "n = 2 #\n",
    "m=NUM_OF_IN//10\n",
    "#Y_DIS (fasele),tedaad iter,tedaad sample\n",
    "NUM_OF_ITER=50\n",
    "Y_DIS=10"
   ]
  },
  {
   "cell_type": "code",
   "execution_count": 4,
   "metadata": {},
   "outputs": [
    {
     "data": {
      "text/plain": [
       "[<matplotlib.lines.Line2D at 0x7f123663a0f0>]"
      ]
     },
     "execution_count": 4,
     "metadata": {},
     "output_type": "execute_result"
    },
    {
     "data": {
      "image/png": "[encoded data removed]",
      "text/plain": [
       "<matplotlib.figure.Figure at 0x7f12386585f8>"
      ]
     },
     "metadata": {},
     "output_type": "display_data"
    }
   ],
   "source": [
    "noiseSize = 3\n",
    "        \n",
    "sample = np.arange(NUM_OF_IN*2).reshape( (n, NUM_OF_IN) )\n",
    "sample[1] = np.sqrt(sample)[0]\n",
    "\n",
    "for i in range(0 , 300,4):\n",
    "     sample[1][i] =40\n",
    "\n",
    "sample[1] = sample[1] + (np.random.rand(1,NUM_OF_IN) - .5) * noiseSize*2\n",
    "\n",
    "sample = sample.T\n",
    "#plt.plot(sample[:,0], sample[:,1], 'co')\n",
    "\n",
    "data=sample\n",
    "dataX = sample[:, :n-1]\n",
    "dataX = np.concatenate((np.ones((1,NUM_OF_IN)), dataX.T)).T\n",
    "\n",
    "dataXcop=np.array(dataX)\n",
    "dataY=np.array(data[:,-1])\n",
    "dataYcop=np.array(dataY)\n",
    "dataY=dataY.T\n",
    "\n",
    "plt.plot(data[:,0], data[:,1], 'co')"
   ]
  },
  {
   "cell_type": "code",
   "execution_count": 5,
   "metadata": {
    "collapsed": true
   },
   "outputs": [],
   "source": [
    "\n",
    "def regression(dataX ,dataY , n ):\n",
    "    firstAlfa=10\n",
    "    numOfIter= MAX_NUM_OF_ITER\n",
    "    jArr=[]\n",
    "    theta = np.ones(n)\n",
    "    xTranspose = dataX.transpose()\n",
    "    m=NUM_OF_IN/10\n",
    "    while True :\n",
    "        numOfIter -= 1\n",
    "        h = np.dot(dataX , theta)\n",
    "        alfa = firstAlfa/5\n",
    "        loss = h - dataY\n",
    "        gradient = np.dot(xTranspose,loss)\n",
    "        #print (gradient)\n",
    "        theta =theta-((alfa * gradient) / m)\n",
    "        jArr += [ np.sum(loss ** 2) / (2*m) ]\n",
    "        \n",
    "        if len(jArr) > 1 :\n",
    "            if jArr[len(jArr)-1] > jArr[len(jArr)-2]  :\n",
    "                jArr[:]=[]\n",
    "                theta = np.ones(n)\n",
    "                firstAlfa = alfa\n",
    "                numOfIter = MAX_NUM_OF_ITER\n",
    "                \n",
    "        if numOfIter<0:\n",
    "            break\n",
    "            \n",
    "    #plt.plot(jArr)\n",
    "    #print (jArr)\n",
    "    #print(\"theta is=\"+ str(theta) )\n",
    "    return theta\n"
   ]
  },
  {
   "cell_type": "code",
   "execution_count": 6,
   "metadata": {
    "collapsed": true
   },
   "outputs": [],
   "source": [
    "range_min_arr = []\n",
    "\n",
    "for i in range(0, n):\n",
    "    max_val=dataX[:,i].max()\n",
    "    min_val=dataX[:,i].min()\n",
    "    avg=dataX[:,i].mean()\n",
    "    range_=max_val-min_val\n",
    "    #print (\"range is: \"+str(range_)+\" mean is: \"+str(avg))\n",
    "    arr = np.array([avg,range_] )\n",
    "    #print (arr)\n",
    "    range_min_arr.append(arr)\n",
    "\n",
    "#print (range_min_arr)\n",
    "\n",
    "for i in range(1, n):\n",
    "    for j in range(0, NUM_OF_IN):\n",
    "        if range_min_arr[i][1] != 0:\n",
    "            dataX[j][i] -= (range_min_arr[i][0])\n",
    "            dataX[j][i] = dataX[j][i]/ range_min_arr[i][1]\n",
    "            continue\n",
    "        dataX[j][i] = (dataX[j][i] - range_min_arr[i][0])\n",
    "\n",
    "#print (dataX)"
   ]
  },
  {
   "cell_type": "code",
   "execution_count": 7,
   "metadata": {
    "collapsed": true
   },
   "outputs": [],
   "source": [
    "def scaling(inarr,theta,range_min_arr):\n",
    "    return np.array(feature_scaling(inarr, range_min_arr)).dot(theta)"
   ]
  },
  {
   "cell_type": "code",
   "execution_count": 8,
   "metadata": {
    "collapsed": true
   },
   "outputs": [],
   "source": [
    "def feature_scaling(a, range_min_arr):\n",
    "    fs = [1]\n",
    "    for feature_num in range(1, n):\n",
    "        if range_min_arr[feature_num][1] != 0:\n",
    "            fs += [( a[feature_num-1] - range_min_arr[feature_num][0] ) / range_min_arr[feature_num][1]]\n",
    "            continue\n",
    "        fs += [a[feature_num-1] - range_min_arr[feature_num][0]]\n",
    "    return fs"
   ]
  },
  {
   "cell_type": "code",
   "execution_count": 9,
   "metadata": {},
   "outputs": [
    {
     "data": {
      "text/plain": [
       "[<matplotlib.lines.Line2D at 0x7f12388d4d68>]"
      ]
     },
     "execution_count": 9,
     "metadata": {},
     "output_type": "execute_result"
    },
    {
     "data": {
      "image/png": "[encoded data removed]",
      "text/plain": [
       "<matplotlib.figure.Figure at 0x7f12388d4ef0>"
      ]
     },
     "metadata": {},
     "output_type": "display_data"
    }
   ],
   "source": [
    "theta= regression(dataX,dataY,n)\n",
    "\n",
    "a = (0,scaling([0],theta,range_min_arr))#0\n",
    "b = (NUM_OF_IN-1,scaling([NUM_OF_IN-1],theta,range_min_arr))#NUM_OF_IN -1\n",
    "          \n",
    "    \n",
    "plt.plot(data[:,0], data[:,1],'go')\n",
    "plt.plot([ a[0], b[0] ], [ a[1], b[1] ], 'k-', color ='wheat',linewidth=2) #linear Reg\n"
   ]
  },
  {
   "cell_type": "code",
   "execution_count": 10,
   "metadata": {},
   "outputs": [
    {
     "data": {
      "text/plain": [
       "[<matplotlib.lines.Line2D at 0x7f12364e62b0>]"
      ]
     },
     "execution_count": 10,
     "metadata": {},
     "output_type": "execute_result"
    },
    {
     "data": {
      "image/png": "[encoded data removed]",
      "text/plain": [
       "<matplotlib.figure.Figure at 0x7f126d3ad6d8>"
      ]
     },
     "metadata": {},
     "output_type": "display_data"
    }
   ],
   "source": [
    "\n",
    "best_theta = []\n",
    "best_rand = []\n",
    "\n",
    "for iter_ in range(0,NUM_OF_ITER):\n",
    "    chooseOne = random.sample(range(NUM_OF_IN), m)\n",
    "    newX = dataX[ chooseOne ]\n",
    "    newY = dataY[ chooseOne ]\n",
    "    \n",
    "    theta = regression(newX ,newY ,n)\n",
    "    \n",
    "    loss =np.dot(dataX , theta) - dataY\n",
    "    \n",
    "    bad_data=0\n",
    "    k=0\n",
    "    for k in range(0,len(loss)):\n",
    "        if loss[k]< -1*Y_DIS :\n",
    "            bad_data+=1\n",
    "        if loss[k]> Y_DIS:\n",
    "            bad_data+=1\n",
    "    \n",
    "    if iter_==0:\n",
    "        min_bad_dis=bad_data\n",
    "    if bad_data < min_bad_dis:\n",
    "        min_bad_dis = bad_data\n",
    "        best_rand = chooseOne\n",
    "        best_theta = theta\n",
    "        \n",
    "a=[0,scaling([1,0],best_theta,range_min_arr)]\n",
    "#print (a)\n",
    "b= [NUM_OF_IN-1,scaling([NUM_OF_IN-1],best_theta,range_min_arr)]\n",
    "#print (b)\n",
    "\n",
    "plt.plot(dataXcop[:,1], dataYcop, 'go')\n",
    "plt.plot(dataXcop[best_rand,1],dataYcop[best_rand], 'bo')#rand data\n",
    "\n",
    "\n",
    "plt.plot([ a[0], b[0] ], [ a[1], b[1] ], 'k-', lw=2,color='wheat')#line\n"
   ]
  },
  {
   "cell_type": "code",
   "execution_count": null,
   "metadata": {
    "collapsed": true
   },
   "outputs": [],
   "source": []
  }
 ],
 "metadata": {
  "kernelspec": {
   "display_name": "Python 3",
   "language": "python",
   "name": "python3"
  },
  "language_info": {
   "codemirror_mode": {
    "name": "ipython",
    "version": 3
   },
   "file_extension": ".py",
   "mimetype": "text/x-python",
   "name": "python",
   "nbconvert_exporter": "python",
   "pygments_lexer": "ipython3",
   "version": "3.5.2"
  }
 },
 "nbformat": 4,
 "nbformat_minor": 2
}
